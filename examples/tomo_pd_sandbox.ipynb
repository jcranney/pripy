{
 "cells": [
  {
   "cell_type": "code",
   "execution_count": null,
   "id": "23ec590a",
   "metadata": {},
   "outputs": [],
   "source": [
    "%matplotlib widget\n",
    "import matplotlib.pyplot as plt\n",
    "import numpy as np\n",
    "import aotools\n",
    "import scipy.interpolate as interp\n",
    "\n",
    "pup_diam_p = 64   # diameter of pupil in pixels\n",
    "pup_diam_c = 8.0   # diameter of pupil in metres\n",
    "fft_width = 128    # width of fourier support (must be at least 2*pup_diam_p)\n",
    "\n",
    "as2rad = np.pi/180/3600\n",
    "\n",
    "pup = aotools.phaseFromZernikes([1],pup_diam_p) # circular pupil (borrowing zernike piston mode)\n",
    "\n",
    "max_theta = 15*2**0.5 # maximum field angle, used to define meta-pupil widths\n",
    "\n",
    "max_zern = 30 # maximum order of zernike function to use\n",
    "zerns = aotools.zernikeArray(max_zern,pup_diam_p) # array of zernike functions\n",
    "\n",
    "def phase_from_zerns(x: np.ndarray):\n",
    "    \"\"\"get phase from zernike coefficients for a full pupil.\n",
    "\n",
    "    Args:\n",
    "        x (np.ndarray): numpy array of coefficients shape of (max_zerns,)\n",
    "\n",
    "    Returns:\n",
    "        np.ndarray: phase (pup_diam,pup_diam)\n",
    "    \"\"\"\n",
    "    return np.einsum(\"ijk,i->jk\",zerns,x)\n",
    "\n",
    "plt.matshow(phase_from_zerns(np.random.randn(max_zern)))\n",
    "plt.colorbar()"
   ]
  },
  {
   "cell_type": "code",
   "execution_count": null,
   "id": "3b46e809",
   "metadata": {},
   "outputs": [],
   "source": [
    "alts = np.r_[-10000.0,-5000.0,0.0,5000.0,20000.0] # conjugation altitudes (can be negative)\n",
    "num_alts = alts.shape[0] # number of layers\n",
    "x_alts = np.random.randn(*[num_alts,max_zern])*1e-2 # random initialisation of aberrations over all layers\n",
    "\n",
    "def phase_at_layer(x: np.ndarray, theta_x: float, theta_y: float, alt: float):\n",
    "    \"\"\"compute the phase at a particular layer projected onto the pupil in a given direction\n",
    "    \n",
    "    Args:\n",
    "        x (np.ndarray): numpy array of coefficients for the layer (max_zerns,)\n",
    "        theta_x (float): x field position on-sky (arcseconds)\n",
    "        theta_y (float): y field position on-sky (arcseconds)\n",
    "        alt (float): layer altitude (metres)\n",
    "\n",
    "    Returns:\n",
    "        np.ndarray: phase (pup_diam,pup_diam)\n",
    "    \"\"\"\n",
    "    # get phase of whole meta-pupil\n",
    "    phi = phase_from_zerns(x)\n",
    "    # define coordinates (in pixels) to sample that phase (projected from pupil)\n",
    "    yy,xx = np.mgrid[:pup_diam_p,:pup_diam_p]\n",
    "    w = 1+2*np.abs(alt)*as2rad*max_theta/pup_diam_c\n",
    "    xx = xx/w\n",
    "    xx += pup_diam_p*(1-1/w)/2\n",
    "    xx += pup_diam_p*alt*as2rad*theta_x/pup_diam_c/w\n",
    "    yy = yy/(1+2*np.abs(alt)*as2rad*max_theta/pup_diam_c)\n",
    "    yy += pup_diam_p*(1-1/w)/2\n",
    "    yy += pup_diam_p*alt*as2rad*theta_y/pup_diam_c/w\n",
    "    # original coordinates (in pixels)\n",
    "    yy_og,xx_og = np.ogrid[:pup_diam_p,:pup_diam_p]\n",
    "    # build interpolator function\n",
    "    interp_func = interp.RegularGridInterpolator([xx_og.flatten(),yy_og.flatten()],phi,bounds_error=True)\n",
    "    # evaluate interpolator function at projected coordinates\n",
    "    try:\n",
    "        return interp_func(np.array([xx.flatten(),yy.flatten()]).T).reshape([pup_diam_p,pup_diam_p])\n",
    "    except ValueError:\n",
    "        print(xx.min(),xx.max(),yy.min(),yy.max())\n",
    "        raise ValueError(\"Requested phase outside of defined metapupils\")\n",
    "\n",
    "plt.matshow(phase_at_layer(x_alts[4],theta_x=0,theta_y=0.0,alt=alts[3]))\n",
    "plt.colorbar()"
   ]
  },
  {
   "cell_type": "code",
   "execution_count": null,
   "id": "42b6c0b8",
   "metadata": {},
   "outputs": [],
   "source": [
    "def phase_in_direction(x: np.ndarray, theta_x: float, theta_y: float):\n",
    "    \"\"\"calculate integral of phase from all layers in a particular direction\n",
    "    \n",
    "    Args:\n",
    "        x (np.ndarray): coefficients for all layers (num_alts,max_zern)\n",
    "        theta_x (float): x field position on-sky (arcseconds)\n",
    "        theta_y (float): y field position on-sky (arcseconds)\n",
    "    \n",
    "    Returns:\n",
    "        np.ndarray: phase (pup_diam,pup_diam)\n",
    "    \"\"\"\n",
    "    return np.sum([phase_at_layer(x[i],theta_x,theta_y,alt) for i,alt in enumerate(alts)],axis=0)*pup\n",
    "\n",
    "plt.matshow(phase_in_direction(x_alts,theta_x=10.0,theta_y=0.0))\n",
    "plt.colorbar()"
   ]
  },
  {
   "cell_type": "code",
   "execution_count": null,
   "id": "c52a114d",
   "metadata": {},
   "outputs": [],
   "source": [
    "as2rad"
   ]
  },
  {
   "cell_type": "code",
   "execution_count": null,
   "id": "32fbe014",
   "metadata": {},
   "outputs": [],
   "source": [
    "def image_from_phase(phi: np.ndarray, wavelength: float = 0.55, window_size=16):\n",
    "    \"\"\"compute image/PSF given phase at pupil\n",
    "    \n",
    "    Args:\n",
    "        phi (np.ndarray): phase in microns (pup_diam_p,pup_diam_p)\n",
    "        wavelength (float): wavelength in microns\n",
    "        \n",
    "    Returns:\n",
    "        np.ndarray: image (fft_width,fft_width)\n",
    "    \"\"\"\n",
    "    im = np.abs(np.fft.fftshift(np.fft.fft2(\n",
    "            pup*np.exp(1j*2*np.pi*phi/wavelength),\n",
    "            s=[fft_width,fft_width],norm=\"ortho\")\n",
    "         ))**2 \n",
    "    return im[im.shape[0]//2-window_size//2:im.shape[0]//2+window_size//2,\n",
    "             im.shape[0]//2-window_size//2:im.shape[0]//2+window_size//2]\n",
    "\n",
    "# scaling factor to obtain PSF in \"strehl\" units\n",
    "psf_scaling = image_from_phase(pup*0.0).max()\n",
    "\n",
    "plt.matshow(image_from_phase(phase_in_direction(x_alts,theta_x=10.0,theta_y=0.0))/psf_scaling)\n",
    "plt.colorbar()"
   ]
  },
  {
   "cell_type": "code",
   "execution_count": null,
   "id": "f4f188e3",
   "metadata": {},
   "outputs": [],
   "source": [
    "# build tomographic system\n",
    "n_src_x = 5\n",
    "n_src = n_src_x**2\n",
    "pos_x,pos_y = (np.mgrid[:n_src_x,:n_src_x]-(n_src_x-1)/2)/(n_src_x-1)*30\n",
    "pos_x = pos_x.flatten()\n",
    "pos_y = pos_y.flatten()\n",
    "print(f\"{pos_x=}\")\n",
    "print(f\"{pos_y=}\")\n",
    "\n",
    "plt.figure()\n",
    "plt.plot(pos_x,pos_y,\"rx\",label=\"sources\")\n",
    "plt.axis(\"square\")\n",
    "plt.xlabel(\"x-field Position - [arcsec]\")\n",
    "plt.ylabel(\"y-field Position - [arcsec]\")"
   ]
  },
  {
   "cell_type": "code",
   "execution_count": null,
   "id": "3edab545",
   "metadata": {},
   "outputs": [],
   "source": [
    "fig,ax = plt.subplots(n_src_x,n_src_x,figsize=[8,8])\n",
    "\n",
    "# compute images at each target\n",
    "imgs = []\n",
    "for i in range(n_src):\n",
    "    x,y = pos_x[i],pos_y[i]\n",
    "    im = image_from_phase(phase_in_direction(x_alts,theta_x=x,theta_y=y))/psf_scaling\n",
    "    imgs.append(im)\n",
    "    ax.flatten()[i].imshow(im)\n",
    "    ax.flatten()[i].set_xticks([])\n",
    "    ax.flatten()[i].set_yticks([])\n",
    "plt.tight_layout()\n",
    "imgs_target = np.array(imgs)\n",
    "print(imgs_target.shape)"
   ]
  },
  {
   "cell_type": "code",
   "execution_count": null,
   "id": "9121f370",
   "metadata": {},
   "outputs": [],
   "source": [
    "def cost(x,target):\n",
    "    \"\"\"evaluate cost function at guess 'x'\n",
    "    \n",
    "    \"\"\"\n",
    "    # compute images at each target\n",
    "    imgs = []\n",
    "    for i in range(n_src):\n",
    "        xp,yp = pos_x[i],pos_y[i]\n",
    "        im = image_from_phase(phase_in_direction(x,theta_x=xp,theta_y=yp))/psf_scaling\n",
    "        imgs.append(im)\n",
    "    imgs = np.array(imgs)\n",
    "    return np.append((imgs - target).flatten(),x/10)\n",
    "\n",
    "from scipy.optimize import least_squares\n",
    "\n",
    "x_opt = least_squares(lambda x: cost(x.reshape([num_alts,max_zern]),imgs_target),\n",
    "                      x_alts.flatten()*0.0, verbose=2)[\"x\"].reshape([num_alts,max_zern])"
   ]
  },
  {
   "cell_type": "code",
   "execution_count": null,
   "id": "56ce816d",
   "metadata": {},
   "outputs": [],
   "source": [
    "fig,ax = plt.subplots(n_src_x,n_src_x,figsize=[8,8])\n",
    "\n",
    "# compute estimated images at each target (to evaluate convergence quality)\n",
    "for i in range(n_src):\n",
    "    x,y = pos_x[i],pos_y[i]\n",
    "    im = image_from_phase(phase_in_direction(x_opt,theta_x=x,theta_y=y))/psf_scaling\n",
    "    ax.flatten()[i].imshow(im)\n",
    "    ax.flatten()[i].set_xticks([])\n",
    "    ax.flatten()[i].set_yticks([])\n",
    "plt.tight_layout()"
   ]
  },
  {
   "cell_type": "code",
   "execution_count": null,
   "id": "73459665",
   "metadata": {},
   "outputs": [],
   "source": [
    "fig,ax = plt.subplots(n_src_x,n_src_x,figsize=[8,8])\n",
    "\n",
    "# compute residual images at each target (to evaluate convergence quality)\n",
    "for i in range(n_src):\n",
    "    x,y = pos_x[i],pos_y[i]\n",
    "    im = image_from_phase(phase_in_direction(x_alts-x_opt,theta_x=x,theta_y=y))/psf_scaling\n",
    "    ax.flatten()[i].imshow(im)\n",
    "    ax.flatten()[i].set_xticks([])\n",
    "    ax.flatten()[i].set_yticks([])\n",
    "plt.tight_layout()"
   ]
  },
  {
   "cell_type": "code",
   "execution_count": null,
   "id": "57f8d23c",
   "metadata": {},
   "outputs": [],
   "source": [
    "plt.figure()\n",
    "plt.plot(x_alts.flatten())\n",
    "plt.plot(x_opt.flatten())\n",
    "plt.plot((x_alts-x_opt).flatten())\n"
   ]
  },
  {
   "cell_type": "code",
   "execution_count": null,
   "id": "b879e1d3",
   "metadata": {},
   "outputs": [],
   "source": [
    "print(np.tan(as2rad*-15))\n",
    "print(as2rad*-15)"
   ]
  }
 ],
 "metadata": {
  "kernelspec": {
   "display_name": "Python 3.9.7 ('base')",
   "language": "python",
   "name": "python3"
  },
  "language_info": {
   "codemirror_mode": {
    "name": "ipython",
    "version": 3
   },
   "file_extension": ".py",
   "mimetype": "text/x-python",
   "name": "python",
   "nbconvert_exporter": "python",
   "pygments_lexer": "ipython3",
   "version": "3.9.7"
  },
  "vscode": {
   "interpreter": {
    "hash": "7db123e02fe563d8db0722314c7dfde6505b3dd6cd6405232257177735691461"
   }
  }
 },
 "nbformat": 4,
 "nbformat_minor": 5
}
